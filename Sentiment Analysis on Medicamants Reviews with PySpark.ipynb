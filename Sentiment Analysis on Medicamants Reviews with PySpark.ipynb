{
 "cells": [
  {
   "cell_type": "code",
   "execution_count": 1,
   "metadata": {
    "scrolled": true
   },
   "outputs": [
    {
     "name": "stdout",
     "output_type": "stream",
     "text": [
      "root\n",
      " |-- Review_ID: integer (nullable = true)\n",
      " |-- review: string (nullable = true)\n",
      " |-- rating: integer (nullable = true)\n",
      "\n"
     ]
    }
   ],
   "source": [
    "reviews = spark.read.csv('C:\\\\E\\\\Medicaments_Reviews.csv', header=True, inferSchema=True, sep=',' )\n",
    "reviews.printSchema()"
   ]
  },
  {
   "cell_type": "code",
   "execution_count": 2,
   "metadata": {},
   "outputs": [
    {
     "name": "stdout",
     "output_type": "stream",
     "text": [
      "root\n",
      " |-- review: string (nullable = true)\n",
      " |-- rating: integer (nullable = true)\n",
      "\n"
     ]
    }
   ],
   "source": [
    "drop_list = ['Review_ID']\n",
    "reviews = reviews.select([column for column in reviews.columns if column not in drop_list])\n",
    "reviews.printSchema()"
   ]
  },
  {
   "cell_type": "code",
   "execution_count": 3,
   "metadata": {},
   "outputs": [],
   "source": [
    "from pyspark.sql.functions import udf, col, regexp_replace, when \n",
    "from pyspark.sql.types import StringType,BooleanType,DateType,NumericType, DoubleType\n",
    "from pyspark.ml.feature import Tokenizer, RegexTokenizer, StopWordsRemover, HashingTF, IDF\n",
    "from pyspark.ml.feature import OneHotEncoder, StringIndexer, VectorAssembler\n",
    "from pyspark.ml.feature import CountVectorizer\n",
    "from pyspark.ml.classification import LinearSVC, RandomForestClassifier, NaiveBayes \n",
    "from pyspark.ml import Pipeline\n",
    "import time\n",
    "from pyspark.ml.evaluation import BinaryClassificationEvaluator, MulticlassClassificationEvaluator"
   ]
  },
  {
   "cell_type": "code",
   "execution_count": 4,
   "metadata": {},
   "outputs": [
    {
     "name": "stdout",
     "output_type": "stream",
     "text": [
      "+--------------------+------+\n",
      "|              review|rating|\n",
      "+--------------------+------+\n",
      "|About two months ...|     1|\n",
      "|I've tried a few ...|    10|\n",
      "|My son has Crohn'...|     8|\n",
      "|Quick reduction o...|     9|\n",
      "|Contrave combines...|     9|\n",
      "+--------------------+------+\n",
      "only showing top 5 rows\n",
      "\n",
      "+--------------------+------+\n",
      "|              review|rating|\n",
      "+--------------------+------+\n",
      "|About two months ...|   neg|\n",
      "|I've tried a few ...|   pos|\n",
      "|My son has Crohn'...|   pos|\n",
      "|Quick reduction o...|   pos|\n",
      "|Contrave combines...|   pos|\n",
      "+--------------------+------+\n",
      "only showing top 5 rows\n",
      "\n"
     ]
    }
   ],
   "source": [
    "reviews.show(5)\n",
    "reviews = reviews.withColumn(\"rating\", when(reviews.rating >=6  ,\"pos\") \\\n",
    "      .otherwise(\"neg\"))\n",
    "reviews.show(5)"
   ]
  },
  {
   "cell_type": "code",
   "execution_count": 5,
   "metadata": {},
   "outputs": [],
   "source": [
    "reviews = reviews.dropna()\n",
    "clean_reviews = reviews.withColumn(\"review\", regexp_replace(col(\"review\"),\"[^A-Za-z' ]\",\"\"))   \n",
    "reviews = clean_reviews"
   ]
  },
  {
   "cell_type": "code",
   "execution_count": 6,
   "metadata": {},
   "outputs": [],
   "source": [
    "regexTokenizer = RegexTokenizer(inputCol=\"review\", outputCol=\"words\", pattern=\"\\\\W\")\n",
    "stopwordsRemover = StopWordsRemover(inputCol=\"words\", outputCol=\"filtered\", caseSensitive=False)\n",
    "countVectors = CountVectorizer(inputCol=\"filtered\", outputCol=\"features\",vocabSize=100000,minDF=5)"
   ]
  },
  {
   "cell_type": "code",
   "execution_count": 7,
   "metadata": {},
   "outputs": [],
   "source": [
    "label_stringIdx = StringIndexer(inputCol = \"rating\", outputCol = \"label\")"
   ]
  },
  {
   "cell_type": "code",
   "execution_count": 8,
   "metadata": {},
   "outputs": [],
   "source": [
    "pipeline = Pipeline(stages=[regexTokenizer, stopwordsRemover, countVectors, label_stringIdx])"
   ]
  },
  {
   "cell_type": "code",
   "execution_count": 9,
   "metadata": {},
   "outputs": [],
   "source": [
    "pipelineFit = pipeline.fit(reviews)"
   ]
  },
  {
   "cell_type": "code",
   "execution_count": 10,
   "metadata": {},
   "outputs": [],
   "source": [
    "dataset = pipelineFit.transform(reviews)"
   ]
  },
  {
   "cell_type": "code",
   "execution_count": 11,
   "metadata": {},
   "outputs": [
    {
     "name": "stdout",
     "output_type": "stream",
     "text": [
      "+--------------------+------+--------------------+--------------------+--------------------+-----+\n",
      "|              review|rating|               words|            filtered|            features|label|\n",
      "+--------------------+------+--------------------+--------------------+--------------------+-----+\n",
      "|About two months ...|   neg|[about, two, mont...|[two, months, ago...|(11200,[1,2,4,7,1...|  1.0|\n",
      "|I've tried a few ...|   pos|[i, ve, tried, a,...|[ve, tried, antid...|(11200,[2,4,5,6,7...|  0.0|\n",
      "|My son has Crohn'...|   pos|[my, son, has, cr...|[son, crohn, dise...|(11200,[0,2,4,7,1...|  0.0|\n",
      "|Quick reduction o...|   pos|[quick, reduction...|[quick, reduction...|(11200,[87,787,17...|  0.0|\n",
      "|Contrave combines...|   pos|[contrave, combin...|[contrave, combin...|(11200,[1,3,4,11,...|  0.0|\n",
      "+--------------------+------+--------------------+--------------------+--------------------+-----+\n",
      "only showing top 5 rows\n",
      "\n"
     ]
    }
   ],
   "source": [
    "dataset.show(5)"
   ]
  },
  {
   "cell_type": "code",
   "execution_count": 12,
   "metadata": {
    "scrolled": true
   },
   "outputs": [
    {
     "name": "stdout",
     "output_type": "stream",
     "text": [
      "Training Dataset Count: 40346\n",
      "Test Dataset Count: 13419\n"
     ]
    }
   ],
   "source": [
    "(trainingData, testData) = dataset.randomSplit([0.75, 0.25], seed = 2000)\n",
    "print(\"Training Dataset Count: \" + str(trainingData.count()))\n",
    "print(\"Test Dataset Count: \" + str(testData.count()))"
   ]
  },
  {
   "cell_type": "code",
   "execution_count": 18,
   "metadata": {},
   "outputs": [
    {
     "name": "stdout",
     "output_type": "stream",
     "text": [
      "+--------------------+------+--------------------+--------------------+--------------------+----------+-----+\n",
      "|              review|rating|            filtered|            features|         probability|prediction|label|\n",
      "+--------------------+------+--------------------+--------------------+--------------------+----------+-----+\n",
      "| I have nerve dam...|   pos|[nerve, damage, l...|(11200,[9,16,31,4...|[0.64200552725922...|       0.0|  0.0|\n",
      "| Made my hand sha...|   pos|[made, hand, shak...|(11200,[16,64,93,...|[0.70968052963671...|       0.0|  0.0|\n",
      "| Maintenance of c...|   pos|[maintenance, cor...|(11200,[2,5,7,21,...|[0.91003143067319...|       0.0|  0.0|\n",
      "| RO isentress  ti...|   pos|[ro, isentress, t...|(11200,[9,30,77,9...|[0.72255792176882...|       0.0|  0.0|\n",
      "| days ago I start...|   neg|[days, ago, start...|(11200,[8,10,12,1...|[0.76529456495899...|       0.0|  1.0|\n",
      "+--------------------+------+--------------------+--------------------+--------------------+----------+-----+\n",
      "only showing top 5 rows\n",
      "\n"
     ]
    }
   ],
   "source": [
    "start = time.time()\n",
    "\n",
    "nb = NaiveBayes(smoothing=1,  labelCol = \"label\", featuresCol = \"features\")\n",
    "model = nb.fit(trainingData)\n",
    "predictions = model.transform(testData)\n",
    "predictions.select(\"review\",\"rating\",\"filtered\",\"features\",\"probability\",\"prediction\", \"label\") \\\n",
    "    .show(n = 5)\n",
    "\n",
    "end = time.time()"
   ]
  },
  {
   "cell_type": "code",
   "execution_count": 19,
   "metadata": {},
   "outputs": [
    {
     "name": "stdout",
     "output_type": "stream",
     "text": [
      "temps d'exécution :4.852296352386475 s\n",
      "La précision de Naive Baise =  0.601522715903923\n"
     ]
    }
   ],
   "source": [
    "print(\"temps d'exécution :\" + str(end-start) + \" s\")\n",
    "evaluator = MulticlassClassificationEvaluator(predictionCol=\"prediction\")\n",
    "print(\"La précision de Naive Baise = \", evaluator.evaluate(predictions) )"
   ]
  },
  {
   "cell_type": "code",
   "execution_count": 21,
   "metadata": {
    "scrolled": false
   },
   "outputs": [
    {
     "name": "stdout",
     "output_type": "stream",
     "text": [
      "+--------------------+------+--------------------+--------------------+----------+-----+\n",
      "|              review|rating|            filtered|         probability|prediction|label|\n",
      "+--------------------+------+--------------------+--------------------+----------+-----+\n",
      "| I have nerve dam...|   pos|[nerve, damage, l...|[0.69917992005808...|       0.0|  0.0|\n",
      "| Made my hand sha...|   pos|[made, hand, shak...|[0.69814315305765...|       0.0|  0.0|\n",
      "| Maintenance of c...|   pos|[maintenance, cor...|[0.69761917346074...|       0.0|  0.0|\n",
      "| RO isentress  ti...|   pos|[ro, isentress, t...|[0.69896840098304...|       0.0|  0.0|\n",
      "| days ago I start...|   neg|[days, ago, start...|[0.70074224190031...|       0.0|  1.0|\n",
      "+--------------------+------+--------------------+--------------------+----------+-----+\n",
      "only showing top 5 rows\n",
      "\n"
     ]
    }
   ],
   "source": [
    "start = time.time()\n",
    "rf = RandomForestClassifier(labelCol =\"label\", featuresCol = \"features\",numTrees=500)\n",
    "model = rf.fit(trainingData)\n",
    "prediction_rf = model.transform(testData)\n",
    "prediction_rf.select(\"review\", \"rating\", 'filtered' , \"probability\", \"prediction\",\"label\" ).show(5)\n",
    "end = time.time()\n"
   ]
  },
  {
   "cell_type": "code",
   "execution_count": 23,
   "metadata": {},
   "outputs": [
    {
     "name": "stdout",
     "output_type": "stream",
     "text": [
      "temps d'exécution :128.24345588684082 s\n",
      "La précision de Random Forest : 0.5017123076665149\n"
     ]
    }
   ],
   "source": [
    "print(\"temps d'exécution :\" + str(end-start) + \" s\")\n",
    "evaluator = BinaryClassificationEvaluator()\n",
    "print(\"La précision de Random Forest : \" + \\\n",
    "      str(evaluator.evaluate(prediction_rf, {evaluator.metricName: \"areaUnderROC\"})))"
   ]
  },
  {
   "cell_type": "code",
   "execution_count": 24,
   "metadata": {},
   "outputs": [
    {
     "name": "stdout",
     "output_type": "stream",
     "text": [
      "+--------------------+------+--------------------+----------+-----+\n",
      "|              review|rating|            filtered|prediction|label|\n",
      "+--------------------+------+--------------------+----------+-----+\n",
      "| I have nerve dam...|   pos|[nerve, damage, l...|       0.0|  0.0|\n",
      "| Made my hand sha...|   pos|[made, hand, shak...|       0.0|  0.0|\n",
      "| Maintenance of c...|   pos|[maintenance, cor...|       0.0|  0.0|\n",
      "| RO isentress  ti...|   pos|[ro, isentress, t...|       0.0|  0.0|\n",
      "| days ago I start...|   neg|[days, ago, start...|       0.0|  1.0|\n",
      "+--------------------+------+--------------------+----------+-----+\n",
      "only showing top 5 rows\n",
      "\n"
     ]
    }
   ],
   "source": [
    "start = time.time()\n",
    "\n",
    "lsvc = LinearSVC(labelCol =\"label\", featuresCol = \"features\", maxIter=100, regParam=0.5)\n",
    "model_svm = lsvc.fit(trainingData)\n",
    "prediction_svm = model_svm.transform(testData)\n",
    "prediction_svm.select(\"review\", \"rating\", \"filtered\" , \"prediction\",\"label\" ).show(5)\n",
    "\n",
    "end = time.time()"
   ]
  },
  {
   "cell_type": "code",
   "execution_count": 25,
   "metadata": {},
   "outputs": [
    {
     "name": "stdout",
     "output_type": "stream",
     "text": [
      "temps d'exécution :24.013376235961914 s\n",
      "La précision de SVM =  0.5854622362911159\n"
     ]
    }
   ],
   "source": [
    "print(\"temps d'exécution :\" + str(end-start) + \" s\")\n",
    "evaluator = MulticlassClassificationEvaluator(predictionCol=\"prediction\")\n",
    "print(\"La précision de SVM = \", evaluator.evaluate(prediction_svm) )"
   ]
  }
 ],
 "metadata": {
  "kernelspec": {
   "display_name": "Python 3",
   "language": "python",
   "name": "python3"
  },
  "language_info": {
   "codemirror_mode": {
    "name": "ipython",
    "version": 3
   },
   "file_extension": ".py",
   "mimetype": "text/x-python",
   "name": "python",
   "nbconvert_exporter": "python",
   "pygments_lexer": "ipython3",
   "version": "3.7.3"
  }
 },
 "nbformat": 4,
 "nbformat_minor": 2
}
